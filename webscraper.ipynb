import requests
import json
from datetime import datetime, timedelta, date
import time
import telegram
import pandas as pd
query_list = ["benzene taranto", 'aria taranto', 
              'ambiente taranto', 'raffineria taranto',
              'ilva taranto', 'arcelor mittal taranto',
             'diossina taranto', 'eni taranto'
             'discarica taranto', 'area industriale taranto'
             'industria taranto', 'odori taranto',
             'cattivo odore taranto', 'cattivi odori taranto', 
              'molestie olfattive taranto', 'ecosistema taranto',
             'taranto green', 'ecologia taranto', 'ecologia taranto']

api_key = YOUR_KEY
data_list = []
tempo = '%Y-%m-%d %H:%M'

def get_airq_taranto_news():
    now = datetime.now()
    now = now.strftime(tempo)
    now = pd.to_datetime(now)
    time_diff = now - timedelta(hours = 1)
    message = ""
    for query in query_list:
        url = f"https://newsapi.org/v2/everything?q={query}&apiKey={api_key}"
        response = requests.get(url)
        data = json.loads(response.text)
        data_list.append(data)
    message_list = []
    articles_printed = False
    if len(data_list) > 1:
        for data in data_list:
            for article in data["articles"]:
                pubbl = pd.to_datetime(article['publishedAt']).tz_convert(tz = "Europe/Rome")
                pubbl = pubbl.strftime(tempo)
                pubbl = pd.to_datetime(pubbl)
                if pubbl >= time_diff:
                    articles_printed = True
                    message = article["title"] + "\n" + article["url"] 
                    message_list.append(message)
    return message_list

def get_benzene_data():
    from datetime import datetime, timedelta, date
    today = str(date.today())
    benz_last = pd.read_csv("https://discomap.eea.europa.eu/map/fme/latest/IT_C6H6.csv")
    lista_str_benz = ["IT1610A", "IT1607A", "IT1608A", "IT1609A", "IT1611A", "IT1613A", "IT1614A"]
    lista_df_benz = []
    for string in lista_str_benz:
            benz = benz_last[benz_last['station_code'].str.contains(string)]
            benz = benz[["value_datetime_inserted","station_code", "station_name", "pollutant", "samplingpoint_x", "samplingpoint_y", "value_numeric"]]
            benz = benz.rename(columns={"value_datetime_inserted":"date", "samplingpoint_x":"latitude", "samplingpoint_y":"longitude"})
            benz["date"] = pd.to_datetime(benz["date"], yearfirst = True).dt.strftime('%Y-%m-%d %H:%M')
            benz = benz[benz['date'].str.contains(today)]
            benz = benz.sort_values(by="date", ascending = False)
            benz["date"] = pd.to_datetime(benz["date"], yearfirst = True)
            benz["date"] = benz["date"] + timedelta(hours = 1)
            lista_df_benz.append(benz)
    benz = pd.concat(lista_df_benz)
    benz = benz.pivot_table(index = "date", columns = "station_name", values = "value_numeric")
    benz = benz.reset_index()
    benz = benz.sort_values(by="date", ascending = False)
    benz = benz.fillna(method = "backfill")
    benz = benz.fillna(method = "pad")
    date = benz["date"].iloc[0]
    date = date.strftime('%d/%m/%Y %H:%M')
    frase_data = "Rilevazioni di C\u2086H\u2086 " + str(date) + ": \n \n"
    frase = []
    fr = ""
    benz = benz.dropna()
    benz = benz.fillna(method = "backfill")
    benz = benz.drop("date", axis = 1)
    for column in benz.columns:
            be = benz[column]
            be = be.to_list()
            be = round(be[0],2)
            frase_temp =  str(column).capitalize() + ": " + str(be) + " µg/m\xb3. \n \n"
            frase.append(frase_temp)
    benzene = frase_data + fr.join(frase)
    return benzene

def get_benzene_graph():
    import matplotlib.dates as mdates
    from matplotlib.dates import DateFormatter
    from datetime import datetime, timedelta, date
    import pandas as pd
    import seaborn as sns
    import matplotlib.pyplot as plt
    plt.rcParams.update({'font.size': 14})
    colors = ["orange", "green", "red", "blue", "gold", "purple", "grey"]
    sns.set_palette(sns.color_palette(colors))
    plt.style.use('seaborn-white')
    benzene_last = pd.read_csv("https://discomap.eea.europa.eu/map/fme/latest/IT_C6H6.csv")
    lista_str_benz = ["IT1610A", "IT1607A", "IT1608A", "IT1609A", "IT1611A", "IT1613A", "IT1614A"]
    lista_df = []
    for string in lista_str_benz:
        benzene = benzene_last[benzene_last['station_code'].str.contains(string)]
        benzene = benzene[["value_datetime_inserted","station_code", "station_name", "pollutant", "value_numeric"]]
        benzene = benzene.rename(columns={"value_datetime_inserted":"date", "value_numeric" : "benzene (µg / m\xb3)",
        "station_name": "stazione"})
        benzene = benzene.sort_values(by="date", ascending = False)
        lista_df.append(benzene)
    benzene = pd.concat(lista_df)
    now = datetime.now()
    now = now.strftime('%Y-%m-%d %H:%M')
    now = pd.to_datetime(now)
    benzene["date"] = pd.to_datetime(benzene["date"])
    benzene.date = benzene.date.dt.tz_convert(tz = "Europe/Rome")
    benzene.date = benzene.date.dt.strftime('%Y-%m-%d %H')
    benzene["date"] = pd.to_datetime(benzene["date"])
    benzene["date"] = benzene["date"] + timedelta(hours = 2)
    now24 = now - timedelta(days = 0, hours = 12, seconds =0,  minutes = 0)
    benzene = benzene[(benzene['date'] >= now24) & (benzene['date'] < now)]
    benzene["date"] = pd.to_datetime(benzene["date"])
    figure, ax = plt.subplots(figsize =(20, 10), sharex = True)
    ax = sns.barplot(x="date", y = "benzene (µg / m\xb3)", hue = "stazione", ci = None, data=benzene, linewidth = 2, edgecolor = ".1")
    figure.suptitle("Il benzene a Taranto nelle ultime ore", x = 0.5, y = 0.92, fontsize=22, fontweight="bold")
    x_dates = benzene['date'].dt.strftime('%d/%m/%Y %H:%M').sort_values().unique()
    ax.set_xticklabels(labels=x_dates, rotation=0, fontdict = {'fontsize': 10, "horizontalalignment": "center"})
    ax.grid()
    ax.set(ylabel = "Benzene (C6H6) µg / m\xb3", xlabel = " ")
    plt.yticks(fontsize = 10)
    plt.legend(loc='best', borderaxespad=0,frameon = True,  shadow = True, title = "Stazioni", prop = {'size' : 12})
    return figure.savefig("plot_benz.png" , dpi=120)

bot = telegram.Bot(token=YOUR_TOKEN)
chat_id = YOUR_CHAT_ID

while 1:
    message_list = get_airq_taranto_news()
    message_benz = get_benzene_data()
    bot.send_message(chat_id=chat_id, text=message_benz)
    get_benzene_graph()
    bot.send_photo(chat_id=chat_id, photo=open('plot_benz.png', 'rb'))
    if message_list:
        for message in message_list:
            bot.send_message(chat_id=chat_id, text=message)
    dt = datetime.now() + timedelta(hours = 1)
    while datetime.now() < dt:
        time.sleep(1)
